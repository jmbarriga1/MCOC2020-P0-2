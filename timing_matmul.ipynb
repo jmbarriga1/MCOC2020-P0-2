{
 "cells": [
  {
   "cell_type": "code",
   "execution_count": null,
   "metadata": {},
   "outputs": [],
   "source": [
    "import numpy as np\n",
    "from time import perf_counter"
   ]
  },
  {
   "cell_type": "code",
   "execution_count": null,
   "metadata": {},
   "outputs": [],
   "source": [
    "Ns=[2,5,10,12,15,20,30,40,45,50,55,60,75,100,125,160,200,250,350,500,600,800,1000,2000,5000,10000]"
   ]
  },
  {
   "cell_type": "code",
   "execution_count": null,
   "metadata": {},
   "outputs": [],
   "source": [
    "Ncorridas=10"
   ]
  },
  {
   "cell_type": "code",
   "execution_count": null,
   "metadata": {},
   "outputs": [],
   "source": [
    "for i in range(Ncorridas):\n",
    "    dts=[]\n",
    "    mem=[]\n",
    "    name=(f\"matmul{i}.txt\")\n",
    "    fid=open(name,\"w\")\n",
    "    \n",
    "    for N in Ns:\n",
    "\n",
    "        print(f\"N = {N}\")\n",
    "\n",
    "        A=np.random.rand(N,N)\n",
    "        B=np.random.rand(N,N)\n",
    "\n",
    "        t1=perf_counter()\n",
    "        C=A@B\n",
    "        t2=perf_counter()\n",
    "\n",
    "        dt=t2-t1\n",
    "\n",
    "        size=3*(N**2)*8\n",
    "\n",
    "        dts.append(dt)\n",
    "        mem.append(size)\n",
    "\n",
    "        fid.write(f\"{N} {dt} {size}\\n\")\n",
    "\n",
    "        print(f\"Tiempo transcurrido = {dt} s\")\n",
    "        print(f\"Memoria usada = {mem} bytes\")\n",
    "\n",
    "        fid.flush()"
   ]
  },
  {
   "cell_type": "code",
   "execution_count": null,
   "metadata": {},
   "outputs": [],
   "source": [
    "fid.close()"
   ]
  }
 ],
 "metadata": {
  "kernelspec": {
   "display_name": "Python 3",
   "language": "python",
   "name": "python3"
  },
  "language_info": {
   "codemirror_mode": {
    "name": "ipython",
    "version": 3
   },
   "file_extension": ".py",
   "mimetype": "text/x-python",
   "name": "python",
   "nbconvert_exporter": "python",
   "pygments_lexer": "ipython3",
   "version": "3.8.3"
  }
 },
 "nbformat": 4,
 "nbformat_minor": 4
}
