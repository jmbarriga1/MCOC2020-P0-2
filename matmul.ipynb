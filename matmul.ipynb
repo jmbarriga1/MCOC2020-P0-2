{
 "cells": [
  {
   "cell_type": "code",
   "execution_count": 5,
   "metadata": {},
   "outputs": [
    {
     "name": "stdout",
     "output_type": "stream",
     "text": [
      "Tiempo transcurrido = 0.00016440000001693988 s\n"
     ]
    }
   ],
   "source": [
    "from time import perf_counter\n",
    "import numpy as np\n",
    "\n",
    "N = 3\n",
    "\n",
    "A = np.random.rand(N,N)\n",
    "B = np.random.rand(N,N)\n",
    "\n",
    "t1 = perf_counter()\n",
    "\n",
    "C = A@B        \n",
    "\n",
    "t2 = perf_counter()\n",
    "\n",
    "dt = t2 - t1\n",
    "\n",
    "print(f\"Tiempo transcurrido = {dt} s\")"
   ]
  }
 ],
 "metadata": {
  "kernelspec": {
   "display_name": "Python 3",
   "language": "python",
   "name": "python3"
  },
  "language_info": {
   "codemirror_mode": {
    "name": "ipython",
    "version": 3
   },
   "file_extension": ".py",
   "mimetype": "text/x-python",
   "name": "python",
   "nbconvert_exporter": "python",
   "pygments_lexer": "ipython3",
   "version": "3.8.3"
  }
 },
 "nbformat": 4,
 "nbformat_minor": 4
}
