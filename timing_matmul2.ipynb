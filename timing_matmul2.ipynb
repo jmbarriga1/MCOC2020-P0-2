{
 "cells": [
  {
   "cell_type": "code",
   "execution_count": null,
   "metadata": {},
   "outputs": [],
   "source": [
    "import scipy as sp\n",
    "import matplotlib.pyplot as plt"
   ]
  },
  {
   "cell_type": "code",
   "execution_count": null,
   "metadata": {},
   "outputs": [],
   "source": [
    "Ncorridas=10\n",
    "for i in range(Ncorridas):\n",
    "    tamano=[]\n",
    "    tiempo=[]\n",
    "    memoria=[]\n",
    "    \n",
    "    name=(f\"matmul{i}.txt\")\n",
    "    f = open(name, \"r\")\n",
    "    \n",
    "    for i in f:\n",
    "        lista_fila=i.split()\n",
    "\n",
    "        tamano.append(lista_fila[0])\n",
    "\n",
    "        tiempo.append(lista_fila[1])\n",
    "\n",
    "        memoria.append(lista_fila[2])"
   ]
  },
  {
   "cell_type": "code",
   "execution_count": null,
   "metadata": {},
   "outputs": [],
   "source": [
    "print(tamano)"
   ]
  },
  {
   "cell_type": "code",
   "execution_count": null,
   "metadata": {},
   "outputs": [],
   "source": [
    "print(tiempo)"
   ]
  },
  {
   "cell_type": "code",
   "execution_count": null,
   "metadata": {},
   "outputs": [],
   "source": [
    "print(memoria)"
   ]
  },
  {
   "cell_type": "code",
   "execution_count": null,
   "metadata": {},
   "outputs": [],
   "source": [
    "plt.figure()\n",
    "\n",
    "plt.subplot(2,1,1)\n",
    "plt.plot(tamano,tiempo,'-r')\n",
    "\n",
    "plt.title(\"Rendimiento A@B\\n\", fontsize=10,fontweight='bold')\n",
    "plt.ylabel(\"Tiempo transcurrido (s)\")\n",
    "\n",
    "plt.grid(True)\n",
    "\n",
    "plt.subplot(2,1,2)\n",
    "plt.plot(tamano, memoria, '-r')\n",
    "\n",
    "plt.xlabel(\"Tamaño matriz N\")\n",
    "plt.ylabel(\"Uso memoria\")\n",
    "\n",
    "plt.grid(True)\n",
    "\n",
    "plt.tight_layout()\n",
    "plt.show()"
   ]
  }
 ],
 "metadata": {
  "kernelspec": {
   "display_name": "Python 3",
   "language": "python",
   "name": "python3"
  },
  "language_info": {
   "codemirror_mode": {
    "name": "ipython",
    "version": 3
   },
   "file_extension": ".py",
   "mimetype": "text/x-python",
   "name": "python",
   "nbconvert_exporter": "python",
   "pygments_lexer": "ipython3",
   "version": "3.8.3"
  }
 },
 "nbformat": 4,
 "nbformat_minor": 4
}
