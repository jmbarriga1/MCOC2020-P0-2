{
 "cells": [
  {
   "cell_type": "code",
   "execution_count": 5,
   "metadata": {},
   "outputs": [
    {
     "name": "stdout",
     "output_type": "stream",
     "text": [
      "Tiempo transcurrido = 0.00016440000001693988 s\n"
     ]
    }
   ],
   "source": [
    "from time import perf_counter\n",
    "import numpy as np\n",
    "\n",
    "N = 3\n",
    "\n",
    "A = np.random.rand(N,N)\n",
    "B = np.random.rand(N,N)\n",
    "\n",
    "t1 = perf_counter()\n",
    "\n",
    "C = A@B        \n",
    "\n",
    "t2 = perf_counter()\n",
    "\n",
    "dt = t2 - t1\n",
    "\n",
    "print(f\"Tiempo transcurrido = {dt} s\")"
   ]
  },
  {
   "cell_type": "code",
   "execution_count": 9,
   "metadata": {},
   "outputs": [
    {
     "name": "stdout",
     "output_type": "stream",
     "text": [
      "[[0.45890945 0.8189742  0.09890353]\n",
      " [0.86443811 0.18510825 0.95283016]\n",
      " [0.12657405 0.11762482 0.06431828]]\n",
      "[[0.72854729 0.07998244 0.63264362]\n",
      " [0.52425584 0.34848142 0.52730495]\n",
      " [0.65663414 0.59831516 0.64927795]]\n"
     ]
    }
   ],
   "source": [
    "print(A)\n",
    "print(B)"
   ]
  },
  {
   "cell_type": "code",
   "execution_count": 10,
   "metadata": {},
   "outputs": [
    {
     "data": {
      "text/plain": [
       "array([[0.45890945, 0.8189742 , 0.09890353],\n",
       "       [0.86443811, 0.18510825, 0.95283016],\n",
       "       [0.12657405, 0.11762482, 0.06431828]])"
      ]
     },
     "execution_count": 10,
     "metadata": {},
     "output_type": "execute_result"
    }
   ],
   "source": [
    "A"
   ]
  },
  {
   "cell_type": "code",
   "execution_count": 11,
   "metadata": {},
   "outputs": [
    {
     "data": {
      "text/plain": [
       "array([[0.81319591, 0.64849353, 0.70820223],\n",
       "       [0.63471747, 0.45743801, 0.32042755],\n",
       "       [0.85058907, 0.71257002, 0.89706996]])"
      ]
     },
     "execution_count": 11,
     "metadata": {},
     "output_type": "execute_result"
    }
   ],
   "source": [
    "C"
   ]
  },
  {
   "cell_type": "code",
   "execution_count": null,
   "metadata": {},
   "outputs": [],
   "source": []
  }
 ],
 "metadata": {
  "kernelspec": {
   "display_name": "Python 3",
   "language": "python",
   "name": "python3"
  },
  "language_info": {
   "codemirror_mode": {
    "name": "ipython",
    "version": 3
   },
   "file_extension": ".py",
   "mimetype": "text/x-python",
   "name": "python",
   "nbconvert_exporter": "python",
   "pygments_lexer": "ipython3",
   "version": "3.8.3"
  }
 },
 "nbformat": 4,
 "nbformat_minor": 4
}
